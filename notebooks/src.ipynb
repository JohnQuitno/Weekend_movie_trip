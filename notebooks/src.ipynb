{
 "cells": [
  {
   "cell_type": "code",
   "execution_count": 467,
   "metadata": {},
   "outputs": [],
   "source": [
    "import pandas as pd\n",
    "import datetime\n",
    "import matplotlib.pyplot as plt\n",
    "import numpy as np\n",
    "from sklearn.cluster import KMeans\n",
    "from sklearn.cluster import MeanShift"
   ]
  },
  {
   "source": [
    "Importing the data using read_table\n"
   ],
   "cell_type": "markdown",
   "metadata": {}
  },
  {
   "cell_type": "code",
   "execution_count": 376,
   "metadata": {},
   "outputs": [],
   "source": [
    "ratings = pd.read_table(\"..\\\\data\\\\raw\\\\\\ml-100k\\\\u.data\",names=[\"user id\", \"item id\",\"rating\", \"timestamp\"])\n",
    "movies = pd.read_table(\"..\\\\data\\\\raw\\\\\\ml-100k\\\\u.item\",encoding=\"latin-1\",delimiter=\"|\",names = [\"movie id\" ,\"movie title\" ,\"release date\" ,\"video release date\",\"IMDb URL\" ,\"unknown\" ,\"Action\" ,\"Adventure\" ,\"Animation\",\"Children's\" ,\"Comedy\" ,\"Crime\" ,\"Documentary\" ,\"Drama\",\"Fantasy\",\"Film-Noir\" ,\"Horror\" ,\"Musical\" ,\"Mystery\" ,\"Romance\" ,\"Sci-Fi\",\"Thriller\" ,\"War\" ,\"Western\"])\n",
    "genres = pd.read_table(\"..\\\\data\\\\raw\\\\\\ml-100k\\\\u.genre\",delimiter=\"|\", names=[\"Genre\"])\n",
    "users = pd.read_table(\"..\\\\data\\\\raw\\\\\\ml-100k\\\\u.user\",delimiter=\"|\",names=[\"user id\", \"age\", \"gender\", \"occupation\", \"zip code\"])\n"
   ]
  },
  {
   "source": [
    "Looking at some summary statistics"
   ],
   "cell_type": "markdown",
   "metadata": {}
  },
  {
   "cell_type": "code",
   "execution_count": 410,
   "metadata": {},
   "outputs": [
    {
     "output_type": "execute_result",
     "data": {
      "text/plain": "            user id        item id         rating     timestamp\ncount  100000.00000  100000.000000  100000.000000  1.000000e+05\nmean      462.48475     425.530130       3.529860  8.835289e+08\nstd       266.61442     330.798356       1.125674  5.343856e+06\nmin         1.00000       1.000000       1.000000  8.747247e+08\n25%       254.00000     175.000000       3.000000  8.794487e+08\n50%       447.00000     322.000000       4.000000  8.828269e+08\n75%       682.00000     631.000000       4.000000  8.882600e+08\nmax       943.00000    1682.000000       5.000000  8.932866e+08",
      "text/html": "<div>\n<style scoped>\n    .dataframe tbody tr th:only-of-type {\n        vertical-align: middle;\n    }\n\n    .dataframe tbody tr th {\n        vertical-align: top;\n    }\n\n    .dataframe thead th {\n        text-align: right;\n    }\n</style>\n<table border=\"1\" class=\"dataframe\">\n  <thead>\n    <tr style=\"text-align: right;\">\n      <th></th>\n      <th>user id</th>\n      <th>item id</th>\n      <th>rating</th>\n      <th>timestamp</th>\n    </tr>\n  </thead>\n  <tbody>\n    <tr>\n      <th>count</th>\n      <td>100000.00000</td>\n      <td>100000.000000</td>\n      <td>100000.000000</td>\n      <td>1.000000e+05</td>\n    </tr>\n    <tr>\n      <th>mean</th>\n      <td>462.48475</td>\n      <td>425.530130</td>\n      <td>3.529860</td>\n      <td>8.835289e+08</td>\n    </tr>\n    <tr>\n      <th>std</th>\n      <td>266.61442</td>\n      <td>330.798356</td>\n      <td>1.125674</td>\n      <td>5.343856e+06</td>\n    </tr>\n    <tr>\n      <th>min</th>\n      <td>1.00000</td>\n      <td>1.000000</td>\n      <td>1.000000</td>\n      <td>8.747247e+08</td>\n    </tr>\n    <tr>\n      <th>25%</th>\n      <td>254.00000</td>\n      <td>175.000000</td>\n      <td>3.000000</td>\n      <td>8.794487e+08</td>\n    </tr>\n    <tr>\n      <th>50%</th>\n      <td>447.00000</td>\n      <td>322.000000</td>\n      <td>4.000000</td>\n      <td>8.828269e+08</td>\n    </tr>\n    <tr>\n      <th>75%</th>\n      <td>682.00000</td>\n      <td>631.000000</td>\n      <td>4.000000</td>\n      <td>8.882600e+08</td>\n    </tr>\n    <tr>\n      <th>max</th>\n      <td>943.00000</td>\n      <td>1682.000000</td>\n      <td>5.000000</td>\n      <td>8.932866e+08</td>\n    </tr>\n  </tbody>\n</table>\n</div>"
     },
     "metadata": {},
     "execution_count": 410
    }
   ],
   "source": [
    "ratings.describe()"
   ]
  },
  {
   "cell_type": "code",
   "execution_count": 411,
   "metadata": {},
   "outputs": [
    {
     "output_type": "execute_result",
     "data": {
      "text/plain": "          user id         age\ncount  943.000000  943.000000\nmean   472.000000   34.051962\nstd    272.364951   12.192740\nmin      1.000000    7.000000\n25%    236.500000   25.000000\n50%    472.000000   31.000000\n75%    707.500000   43.000000\nmax    943.000000   73.000000",
      "text/html": "<div>\n<style scoped>\n    .dataframe tbody tr th:only-of-type {\n        vertical-align: middle;\n    }\n\n    .dataframe tbody tr th {\n        vertical-align: top;\n    }\n\n    .dataframe thead th {\n        text-align: right;\n    }\n</style>\n<table border=\"1\" class=\"dataframe\">\n  <thead>\n    <tr style=\"text-align: right;\">\n      <th></th>\n      <th>user id</th>\n      <th>age</th>\n    </tr>\n  </thead>\n  <tbody>\n    <tr>\n      <th>count</th>\n      <td>943.000000</td>\n      <td>943.000000</td>\n    </tr>\n    <tr>\n      <th>mean</th>\n      <td>472.000000</td>\n      <td>34.051962</td>\n    </tr>\n    <tr>\n      <th>std</th>\n      <td>272.364951</td>\n      <td>12.192740</td>\n    </tr>\n    <tr>\n      <th>min</th>\n      <td>1.000000</td>\n      <td>7.000000</td>\n    </tr>\n    <tr>\n      <th>25%</th>\n      <td>236.500000</td>\n      <td>25.000000</td>\n    </tr>\n    <tr>\n      <th>50%</th>\n      <td>472.000000</td>\n      <td>31.000000</td>\n    </tr>\n    <tr>\n      <th>75%</th>\n      <td>707.500000</td>\n      <td>43.000000</td>\n    </tr>\n    <tr>\n      <th>max</th>\n      <td>943.000000</td>\n      <td>73.000000</td>\n    </tr>\n  </tbody>\n</table>\n</div>"
     },
     "metadata": {},
     "execution_count": 411
    }
   ],
   "source": [
    "users.describe()"
   ]
  },
  {
   "source": [
    "Merging all data sets. Here, a row is a rating with the associated movie, movie statistcs, user and user information. We also drop unimportant information here."
   ],
   "cell_type": "markdown",
   "metadata": {}
  },
  {
   "cell_type": "code",
   "execution_count": 384,
   "metadata": {},
   "outputs": [],
   "source": [
    " \n",
    "df = ratings.merge(movies, left_on=\"item id\", right_on=\"movie id\")\n",
    "df = df.merge(users, left_on=\"user id\",right_on=\"user id\")\n",
    "df = df.drop(['item id', \"movie title\", \"release date\", \"video release date\", \"unknown\", \"IMDb URL\",\"occupation\",\"gender\",  'zip code',\"timestamp\",\"age\",\"movie id\",\"rating\"], axis = 1)"
   ]
  },
  {
   "source": [
    "For the Kmeans regression I'm going to use the number of movies watched in each category to group these users. This will give us users who have the same interests. We can use this information to recommend movies to users that other people in the same cluster as them have seen."
   ],
   "cell_type": "markdown",
   "metadata": {}
  },
  {
   "cell_type": "code",
   "execution_count": 385,
   "metadata": {},
   "outputs": [
    {
     "output_type": "execute_result",
     "data": {
      "text/plain": "         Action  Adventure  Animation  Children's  Comedy  Crime  Documentary  \\\nuser id                                                                         \n1            75         42         12          25      91     25            5   \n2            10          3          1           4      16      9            0   \n3            14          4          0           0      12     10            1   \n4             8          4          0           0       4      4            1   \n5            56         33         14          29      82      9            0   \n...         ...        ...        ...         ...     ...    ...          ...   \n939          18         10          1           1      15      3            0   \n940          23         12          2           5      42      7            0   \n941          10          7          3           2       7      1            0   \n942          18         11          4          13      22      0            0   \n943          64         35          2           9      56     18            0   \n\n         Drama  Fantasy  Film-Noir  Horror  Musical  Mystery  Romance  Sci-Fi  \\\nuser id                                                                         \n1          107        2          1      13       13        5       44      43   \n2           35        1          2       2        1        4       16       4   \n3           22        0          2       5        2       11        5       8   \n4            6        0          0       1        1        5        3       6   \n5           27        2          1      28       12        3       19      33   \n...        ...      ...        ...     ...      ...      ...      ...     ...   \n939         18        1          0       1        1        1       10       8   \n940         48        0          3       4        7        3       24      19   \n941          5        0          0       0        1        1        1       8   \n942         31        2          1       3        5        9       17       6   \n943         57        2          0      14        4        3       33      22   \n\n         Thriller  War  Western  \nuser id                          \n1              52   25        6  \n2              12    3        0  \n3              21    5        0  \n4              11    2        0  \n5              19   14        2  \n...           ...  ...      ...  \n939            12    3        0  \n940            20   15        0  \n941             7    1        0  \n942            20   10        3  \n943            35   15        9  \n\n[943 rows x 18 columns]",
      "text/html": "<div>\n<style scoped>\n    .dataframe tbody tr th:only-of-type {\n        vertical-align: middle;\n    }\n\n    .dataframe tbody tr th {\n        vertical-align: top;\n    }\n\n    .dataframe thead th {\n        text-align: right;\n    }\n</style>\n<table border=\"1\" class=\"dataframe\">\n  <thead>\n    <tr style=\"text-align: right;\">\n      <th></th>\n      <th>Action</th>\n      <th>Adventure</th>\n      <th>Animation</th>\n      <th>Children's</th>\n      <th>Comedy</th>\n      <th>Crime</th>\n      <th>Documentary</th>\n      <th>Drama</th>\n      <th>Fantasy</th>\n      <th>Film-Noir</th>\n      <th>Horror</th>\n      <th>Musical</th>\n      <th>Mystery</th>\n      <th>Romance</th>\n      <th>Sci-Fi</th>\n      <th>Thriller</th>\n      <th>War</th>\n      <th>Western</th>\n    </tr>\n    <tr>\n      <th>user id</th>\n      <th></th>\n      <th></th>\n      <th></th>\n      <th></th>\n      <th></th>\n      <th></th>\n      <th></th>\n      <th></th>\n      <th></th>\n      <th></th>\n      <th></th>\n      <th></th>\n      <th></th>\n      <th></th>\n      <th></th>\n      <th></th>\n      <th></th>\n      <th></th>\n    </tr>\n  </thead>\n  <tbody>\n    <tr>\n      <th>1</th>\n      <td>75</td>\n      <td>42</td>\n      <td>12</td>\n      <td>25</td>\n      <td>91</td>\n      <td>25</td>\n      <td>5</td>\n      <td>107</td>\n      <td>2</td>\n      <td>1</td>\n      <td>13</td>\n      <td>13</td>\n      <td>5</td>\n      <td>44</td>\n      <td>43</td>\n      <td>52</td>\n      <td>25</td>\n      <td>6</td>\n    </tr>\n    <tr>\n      <th>2</th>\n      <td>10</td>\n      <td>3</td>\n      <td>1</td>\n      <td>4</td>\n      <td>16</td>\n      <td>9</td>\n      <td>0</td>\n      <td>35</td>\n      <td>1</td>\n      <td>2</td>\n      <td>2</td>\n      <td>1</td>\n      <td>4</td>\n      <td>16</td>\n      <td>4</td>\n      <td>12</td>\n      <td>3</td>\n      <td>0</td>\n    </tr>\n    <tr>\n      <th>3</th>\n      <td>14</td>\n      <td>4</td>\n      <td>0</td>\n      <td>0</td>\n      <td>12</td>\n      <td>10</td>\n      <td>1</td>\n      <td>22</td>\n      <td>0</td>\n      <td>2</td>\n      <td>5</td>\n      <td>2</td>\n      <td>11</td>\n      <td>5</td>\n      <td>8</td>\n      <td>21</td>\n      <td>5</td>\n      <td>0</td>\n    </tr>\n    <tr>\n      <th>4</th>\n      <td>8</td>\n      <td>4</td>\n      <td>0</td>\n      <td>0</td>\n      <td>4</td>\n      <td>4</td>\n      <td>1</td>\n      <td>6</td>\n      <td>0</td>\n      <td>0</td>\n      <td>1</td>\n      <td>1</td>\n      <td>5</td>\n      <td>3</td>\n      <td>6</td>\n      <td>11</td>\n      <td>2</td>\n      <td>0</td>\n    </tr>\n    <tr>\n      <th>5</th>\n      <td>56</td>\n      <td>33</td>\n      <td>14</td>\n      <td>29</td>\n      <td>82</td>\n      <td>9</td>\n      <td>0</td>\n      <td>27</td>\n      <td>2</td>\n      <td>1</td>\n      <td>28</td>\n      <td>12</td>\n      <td>3</td>\n      <td>19</td>\n      <td>33</td>\n      <td>19</td>\n      <td>14</td>\n      <td>2</td>\n    </tr>\n    <tr>\n      <th>...</th>\n      <td>...</td>\n      <td>...</td>\n      <td>...</td>\n      <td>...</td>\n      <td>...</td>\n      <td>...</td>\n      <td>...</td>\n      <td>...</td>\n      <td>...</td>\n      <td>...</td>\n      <td>...</td>\n      <td>...</td>\n      <td>...</td>\n      <td>...</td>\n      <td>...</td>\n      <td>...</td>\n      <td>...</td>\n      <td>...</td>\n    </tr>\n    <tr>\n      <th>939</th>\n      <td>18</td>\n      <td>10</td>\n      <td>1</td>\n      <td>1</td>\n      <td>15</td>\n      <td>3</td>\n      <td>0</td>\n      <td>18</td>\n      <td>1</td>\n      <td>0</td>\n      <td>1</td>\n      <td>1</td>\n      <td>1</td>\n      <td>10</td>\n      <td>8</td>\n      <td>12</td>\n      <td>3</td>\n      <td>0</td>\n    </tr>\n    <tr>\n      <th>940</th>\n      <td>23</td>\n      <td>12</td>\n      <td>2</td>\n      <td>5</td>\n      <td>42</td>\n      <td>7</td>\n      <td>0</td>\n      <td>48</td>\n      <td>0</td>\n      <td>3</td>\n      <td>4</td>\n      <td>7</td>\n      <td>3</td>\n      <td>24</td>\n      <td>19</td>\n      <td>20</td>\n      <td>15</td>\n      <td>0</td>\n    </tr>\n    <tr>\n      <th>941</th>\n      <td>10</td>\n      <td>7</td>\n      <td>3</td>\n      <td>2</td>\n      <td>7</td>\n      <td>1</td>\n      <td>0</td>\n      <td>5</td>\n      <td>0</td>\n      <td>0</td>\n      <td>0</td>\n      <td>1</td>\n      <td>1</td>\n      <td>1</td>\n      <td>8</td>\n      <td>7</td>\n      <td>1</td>\n      <td>0</td>\n    </tr>\n    <tr>\n      <th>942</th>\n      <td>18</td>\n      <td>11</td>\n      <td>4</td>\n      <td>13</td>\n      <td>22</td>\n      <td>0</td>\n      <td>0</td>\n      <td>31</td>\n      <td>2</td>\n      <td>1</td>\n      <td>3</td>\n      <td>5</td>\n      <td>9</td>\n      <td>17</td>\n      <td>6</td>\n      <td>20</td>\n      <td>10</td>\n      <td>3</td>\n    </tr>\n    <tr>\n      <th>943</th>\n      <td>64</td>\n      <td>35</td>\n      <td>2</td>\n      <td>9</td>\n      <td>56</td>\n      <td>18</td>\n      <td>0</td>\n      <td>57</td>\n      <td>2</td>\n      <td>0</td>\n      <td>14</td>\n      <td>4</td>\n      <td>3</td>\n      <td>33</td>\n      <td>22</td>\n      <td>35</td>\n      <td>15</td>\n      <td>9</td>\n    </tr>\n  </tbody>\n</table>\n<p>943 rows × 18 columns</p>\n</div>"
     },
     "metadata": {},
     "execution_count": 385
    }
   ],
   "source": [
    "movie_ratings = df.groupby(\"user id\").sum()\n",
    "movie_ratings"
   ]
  },
  {
   "cell_type": "code",
   "execution_count": 386,
   "metadata": {},
   "outputs": [],
   "source": [
    "kmeans = KMeans(n_clusters=10,random_state=0).fit_predict(movie_ratings)"
   ]
  },
  {
   "cell_type": "code",
   "execution_count": 389,
   "metadata": {},
   "outputs": [
    {
     "output_type": "execute_result",
     "data": {
      "text/plain": "array([1, 0, 0, 2, 9, 6, 5, 0, 2, 6, 6, 0, 3, 8, 8, 8, 2, 4, 2, 0, 7, 7,\n       9, 0, 0, 8, 2, 0, 2, 0, 2, 2, 2, 2, 2, 2, 0, 9, 2, 2, 0, 6, 4, 7,\n       2, 2, 2, 0, 6, 2, 2, 0, 2, 0, 2, 7, 9, 6, 5, 6, 2, 4, 8, 6, 8, 2,\n       2, 2, 0, 9, 2, 8, 0, 2, 0, 0, 0, 2, 0, 2, 0, 9, 9, 0, 4, 2, 1, 2,\n       8, 4, 8, 5, 2, 5, 1, 0, 0, 2, 8, 0])"
     },
     "metadata": {},
     "execution_count": 389
    }
   ],
   "source": [
    "kmeans[:100]"
   ]
  },
  {
   "source": [
    "Here we look at how many people from each group watched a movie. In our recommendation algorithm this is what we would use to recommend movies. You are grouped in some cluster using Kmeans, and you want to watch a movie. The algorithm would look at this table and recommend the most watched movie that you haven't seen among the people in your cluster."
   ],
   "cell_type": "markdown",
   "metadata": {}
  },
  {
   "cell_type": "code",
   "execution_count": 450,
   "metadata": {},
   "outputs": [],
   "source": [
    "users_=ratings[\"user id\"].tolist()\n",
    "group = []\n",
    "for user in users_:\n",
    "    group.append(user_rec.loc[user].group)\n",
    "ratings.group = group\n",
    "tmps = pd.get_dummies(ratings.group)\n",
    "for  tmp in tmps.columns:\n",
    "    ratings[tmp] = tmps[tmp]\n",
    "popular = ratings.groupby(\"item id\").sum()"
   ]
  },
  {
   "cell_type": "code",
   "execution_count": 451,
   "metadata": {},
   "outputs": [
    {
     "output_type": "execute_result",
     "data": {
      "text/plain": "         user id  rating     timestamp   0   1   2  3   4   5   6   7   8   9\nitem id                                                                      \n1         215609    1753  399028021059  94  38  80  6  33  24  43  36  44  54\n2          64453     420  115727673079   6  32   0  6   8  20  13  28   7  11\n3          41322     273   79400420109  10  15   3  2  10  16   9   8   7  10\n4          98125     742  184487964275  19  31   2  7  33  27  27  28  19  16\n5          37786     284   75902581757  13  17   5  4  12  14   5  10   4   2\n...          ...     ...           ...  ..  ..  .. ..  ..  ..  ..  ..  ..  ..\n1678         863       1     889289570   0   0   0  0   0   0   0   0   1   0\n1679         863       3     889289491   0   0   0  0   0   0   0   0   1   0\n1680         863       2     889289570   0   0   0  0   0   0   0   0   1   0\n1681         896       3     887160722   0   0   0  0   0   1   0   0   0   0\n1682         916       3     880845755   0   0   0  0   0   1   0   0   0   0\n\n[1682 rows x 13 columns]",
      "text/html": "<div>\n<style scoped>\n    .dataframe tbody tr th:only-of-type {\n        vertical-align: middle;\n    }\n\n    .dataframe tbody tr th {\n        vertical-align: top;\n    }\n\n    .dataframe thead th {\n        text-align: right;\n    }\n</style>\n<table border=\"1\" class=\"dataframe\">\n  <thead>\n    <tr style=\"text-align: right;\">\n      <th></th>\n      <th>user id</th>\n      <th>rating</th>\n      <th>timestamp</th>\n      <th>0</th>\n      <th>1</th>\n      <th>2</th>\n      <th>3</th>\n      <th>4</th>\n      <th>5</th>\n      <th>6</th>\n      <th>7</th>\n      <th>8</th>\n      <th>9</th>\n    </tr>\n    <tr>\n      <th>item id</th>\n      <th></th>\n      <th></th>\n      <th></th>\n      <th></th>\n      <th></th>\n      <th></th>\n      <th></th>\n      <th></th>\n      <th></th>\n      <th></th>\n      <th></th>\n      <th></th>\n      <th></th>\n    </tr>\n  </thead>\n  <tbody>\n    <tr>\n      <th>1</th>\n      <td>215609</td>\n      <td>1753</td>\n      <td>399028021059</td>\n      <td>94</td>\n      <td>38</td>\n      <td>80</td>\n      <td>6</td>\n      <td>33</td>\n      <td>24</td>\n      <td>43</td>\n      <td>36</td>\n      <td>44</td>\n      <td>54</td>\n    </tr>\n    <tr>\n      <th>2</th>\n      <td>64453</td>\n      <td>420</td>\n      <td>115727673079</td>\n      <td>6</td>\n      <td>32</td>\n      <td>0</td>\n      <td>6</td>\n      <td>8</td>\n      <td>20</td>\n      <td>13</td>\n      <td>28</td>\n      <td>7</td>\n      <td>11</td>\n    </tr>\n    <tr>\n      <th>3</th>\n      <td>41322</td>\n      <td>273</td>\n      <td>79400420109</td>\n      <td>10</td>\n      <td>15</td>\n      <td>3</td>\n      <td>2</td>\n      <td>10</td>\n      <td>16</td>\n      <td>9</td>\n      <td>8</td>\n      <td>7</td>\n      <td>10</td>\n    </tr>\n    <tr>\n      <th>4</th>\n      <td>98125</td>\n      <td>742</td>\n      <td>184487964275</td>\n      <td>19</td>\n      <td>31</td>\n      <td>2</td>\n      <td>7</td>\n      <td>33</td>\n      <td>27</td>\n      <td>27</td>\n      <td>28</td>\n      <td>19</td>\n      <td>16</td>\n    </tr>\n    <tr>\n      <th>5</th>\n      <td>37786</td>\n      <td>284</td>\n      <td>75902581757</td>\n      <td>13</td>\n      <td>17</td>\n      <td>5</td>\n      <td>4</td>\n      <td>12</td>\n      <td>14</td>\n      <td>5</td>\n      <td>10</td>\n      <td>4</td>\n      <td>2</td>\n    </tr>\n    <tr>\n      <th>...</th>\n      <td>...</td>\n      <td>...</td>\n      <td>...</td>\n      <td>...</td>\n      <td>...</td>\n      <td>...</td>\n      <td>...</td>\n      <td>...</td>\n      <td>...</td>\n      <td>...</td>\n      <td>...</td>\n      <td>...</td>\n      <td>...</td>\n    </tr>\n    <tr>\n      <th>1678</th>\n      <td>863</td>\n      <td>1</td>\n      <td>889289570</td>\n      <td>0</td>\n      <td>0</td>\n      <td>0</td>\n      <td>0</td>\n      <td>0</td>\n      <td>0</td>\n      <td>0</td>\n      <td>0</td>\n      <td>1</td>\n      <td>0</td>\n    </tr>\n    <tr>\n      <th>1679</th>\n      <td>863</td>\n      <td>3</td>\n      <td>889289491</td>\n      <td>0</td>\n      <td>0</td>\n      <td>0</td>\n      <td>0</td>\n      <td>0</td>\n      <td>0</td>\n      <td>0</td>\n      <td>0</td>\n      <td>1</td>\n      <td>0</td>\n    </tr>\n    <tr>\n      <th>1680</th>\n      <td>863</td>\n      <td>2</td>\n      <td>889289570</td>\n      <td>0</td>\n      <td>0</td>\n      <td>0</td>\n      <td>0</td>\n      <td>0</td>\n      <td>0</td>\n      <td>0</td>\n      <td>0</td>\n      <td>1</td>\n      <td>0</td>\n    </tr>\n    <tr>\n      <th>1681</th>\n      <td>896</td>\n      <td>3</td>\n      <td>887160722</td>\n      <td>0</td>\n      <td>0</td>\n      <td>0</td>\n      <td>0</td>\n      <td>0</td>\n      <td>1</td>\n      <td>0</td>\n      <td>0</td>\n      <td>0</td>\n      <td>0</td>\n    </tr>\n    <tr>\n      <th>1682</th>\n      <td>916</td>\n      <td>3</td>\n      <td>880845755</td>\n      <td>0</td>\n      <td>0</td>\n      <td>0</td>\n      <td>0</td>\n      <td>0</td>\n      <td>1</td>\n      <td>0</td>\n      <td>0</td>\n      <td>0</td>\n      <td>0</td>\n    </tr>\n  </tbody>\n</table>\n<p>1682 rows × 13 columns</p>\n</div>"
     },
     "metadata": {},
     "execution_count": 451
    }
   ],
   "source": [
    "popular "
   ]
  },
  {
   "cell_type": "code",
   "execution_count": 458,
   "metadata": {},
   "outputs": [],
   "source": [
    "groupings = MeanShift(bandwidth=2).fit_predict(movie_ratings)"
   ]
  },
  {
   "cell_type": "code",
   "execution_count": 459,
   "metadata": {},
   "outputs": [
    {
     "output_type": "execute_result",
     "data": {
      "text/plain": "array([ 75, 631, 536, 700, 136, 344,  33, 220, 854, 350, 266, 528,   1,\n       432, 384, 301, 848, 345, 815, 419, 221, 107, 216, 686, 407, 249,\n       628, 335, 640, 434, 819, 498, 612, 933, 600, 893, 159, 272, 873,\n       713, 568, 197, 154, 190, 614, 703, 930, 538, 237, 942, 647, 648,\n       504, 310, 461,  97, 284, 347,  83, 202, 773, 116, 506, 121, 584,\n       479, 565, 656, 416, 167, 758, 181, 625, 744, 440, 592, 322, 898,\n       771, 869, 621, 293, 179, 465, 178, 835,  80, 872, 580, 288, 262,\n        20, 847,  22,  62, 513, 472, 883, 219, 550, 406,  25, 460, 358,\n       796, 560, 870, 587,  43, 160, 894, 643, 607, 660, 353, 267, 277,\n       539, 122, 541, 424, 816, 812, 571, 263, 551, 519, 273, 783,   7,\n       924, 863, 705, 684, 387, 785, 317, 765, 923, 913, 290, 661, 833,\n       174,  56, 817, 895, 552, 753, 733, 186, 510, 573, 692, 794, 793,\n       449,  57, 303, 364, 543, 439, 837, 330, 622, 752, 559, 383, 585,\n       746, 896, 917, 681, 451, 549, 526, 268,  44, 676, 482, 128, 760,\n       309, 236, 825, 299, 706, 226, 307, 380, 750, 698, 238, 102, 243,\n       879,  72, 137, 820,  61,  45, 824, 517, 855, 791, 613, 135, 911,\n       761, 247, 522, 897, 242, 375, 295, 296, 100, 606, 737, 905, 144,\n        11, 382, 355, 827, 694, 633, 909, 682, 261, 620, 458, 453, 110,\n       475, 316, 738, 652, 420, 644, 845, 938, 764, 177, 727,  98, 651,\n       370, 139, 352, 285, 931, 297, 189, 240,  87, 767, 749, 483, 641,\n       709, 324, 246, 564, 525, 922,  82,  13, 156, 302, 185, 511, 912,\n       518, 201,   0, 579, 789,  10,  86, 804, 736, 687, 741, 823, 148,\n       415, 480, 542, 146,  65, 225,  34, 129, 168, 313, 157, 331, 217,\n       745,  31, 667,   3, 723, 192, 915, 222,  71, 780, 757,  94, 269,\n       103, 256, 469, 524, 609, 371, 790,  81, 496, 677, 379, 532, 306,\n       138, 114,  29, 417, 294, 878,  69, 743, 126, 718, 459, 393, 846,\n       123, 616, 861, 567, 163, 210, 218,  58,  79, 540, 867, 476, 575,\n       376, 673, 433, 786, 792, 342, 880, 412, 365, 427, 646,  27, 940,\n       850, 774, 467, 548, 689, 478, 410, 608, 131,  48, 683, 916, 599,\n        39, 152, 258, 452, 696, 891, 675, 191, 391,  85, 533, 276, 851,\n       341, 408,   4,  84, 395, 357, 343, 260,  30, 747, 321, 456, 442,\n       577,   6, 149, 118, 679, 278, 799, 323, 505, 531, 844, 788,  15,\n        16, 864, 654, 884, 446, 354, 515, 693,  14, 685, 734, 603,  26,\n       463, 722, 455, 591, 730,  12, 360, 235, 588, 782, 634, 777, 119,\n       680, 576, 229, 754, 199, 928, 674,  35, 466, 180, 170, 162, 133,\n       173,  88, 314, 206, 662, 856, 663, 394, 470, 556, 130, 581, 333,\n       802, 653, 877,  23, 899, 143, 892, 430, 934, 405,  74, 569, 563,\n       610, 363, 104, 798, 264,  50, 194, 319, 553, 901, 818, 140, 544,\n        95, 270,  17, 311, 396, 207, 414, 535, 298, 205, 193,  68, 300,\n       349, 547, 637, 775, 781, 422, 198, 710, 814, 502, 557, 605, 932,\n       105, 831, 759, 127, 507, 431, 367, 501, 639, 699, 704,  55, 112,\n       401, 346, 153,  67, 318, 887, 426, 292, 403, 134, 665,  54, 390,\n       903, 158, 561, 495,  21, 373, 554, 282, 425, 809, 546, 941, 389,\n       337,  76, 332, 615, 385, 904, 212, 338, 691, 441, 784, 885, 888,\n       697, 865, 732, 731, 150, 602, 500, 386, 808, 398, 907, 493, 860,\n        53, 359, 147, 604, 843, 659,  77, 287, 769, 497, 708, 487, 645,\n       841,  78, 231, 558, 315, 776, 374,  99, 768, 429, 849, 481, 717,\n       805, 772, 671, 629, 537, 418, 155,  93, 361,  90,  66, 530, 250,\n       259, 707,  63, 868, 291, 339, 900, 209, 312, 377, 695, 822, 340,\n       164, 618, 214, 927, 109, 124, 450, 392, 740, 326,  28, 509,  38,\n       925, 720,  42, 213,  47, 874, 813, 521, 208,  37, 279, 920, 244,\n       245, 227, 175, 725, 492, 334, 570,  70, 829, 800, 438, 919, 327,\n       578, 658, 520, 655, 908,   5, 485, 474, 937, 464, 801, 858, 423,\n       378, 806, 834, 172, 254, 721, 832, 241, 280, 255, 595, 669, 477,\n       527, 555, 125, 650, 617, 348,  92, 388, 253, 320, 842, 454, 113,\n       141, 281, 484, 562, 929, 211, 597, 762, 462, 716, 852,   2, 828,\n       726, 594, 688, 910, 529, 473, 623, 657, 702, 106, 586, 838, 289,\n       690, 712, 826, 503, 165, 232, 286,  18, 630, 195, 566, 468, 735,\n       632, 234,  36,  32, 445, 670, 409, 918, 366, 362, 882, 233, 626,\n       499, 627, 437, 494, 574, 196,  51, 871, 399, 866, 413, 523, 402,\n       589, 182, 714, 666, 711, 257, 572,  52, 853,  89, 766, 590, 421,\n       593, 161,  19, 664, 145, 810, 582, 601, 428, 779,  24,  73, 188,\n        40, 795, 797, 678, 890, 724, 649, 672, 183, 635, 404, 719, 857,\n       739, 491, 803, 176, 889, 171,  64, 715, 598, 701, 187, 368, 611,\n        91, 512, 457, 859, 807, 308, 514, 271, 636, 751, 120, 274, 914,\n        41, 283, 304, 668, 435, 108, 336, 596, 204, 921, 755, 886, 787,\n       881, 742, 939, 142, 490,  59, 400, 926, 265, 111, 763, 200, 228,\n       448, 748, 875, 447, 862, 486, 516, 583,   9, 101, 203, 151, 839,\n       397,  60, 215, 936,  49, 305, 545, 115, 369, 239, 729,   8, 132,\n       638, 169, 830, 230, 411, 356, 811, 642, 821, 325, 488, 902, 329,\n       471, 756, 275, 935, 836,  46, 778, 728, 224, 840, 251, 184, 351,\n       381, 876, 906, 252, 624, 534, 444, 489, 166,  96, 223, 508, 328,\n       770, 248, 443, 372, 619, 436, 117], dtype=int64)"
     },
     "metadata": {},
     "execution_count": 459
    }
   ],
   "source": [
    "groupings"
   ]
  },
  {
   "source": [
    "Going through the same thing here except we are using Meanshift to determine the groupings as opposed to kmeans"
   ],
   "cell_type": "markdown",
   "metadata": {}
  },
  {
   "cell_type": "code",
   "execution_count": 471,
   "metadata": {},
   "outputs": [],
   "source": [
    "mean_shift = MeanShift().fit_predict(movie_ratings)"
   ]
  },
  {
   "cell_type": "code",
   "execution_count": 472,
   "metadata": {},
   "outputs": [
    {
     "output_type": "execute_result",
     "data": {
      "text/plain": "array([ 1,  0,  0,  0, 14, 14,  1,  0,  0, 15, 14,  0,  5,  0,  0,  0,  0,\n        1,  0,  0, 15, 14,  0,  0,  0,  0,  0,  0,  0,  0,  0,  0,  0,  0,\n        0,  0,  0,  0,  0,  0,  0, 14, 14, 15,  0,  0,  0,  0, 14,  0,  0,\n        0,  0,  0,  0, 14,  0,  0,  1, 15,  0,  1,  0, 14,  0,  0,  0,  0,\n        0,  0,  0, 15,  0,  0,  0,  0,  0,  0,  0,  0,  0, 15, 14,  0,  1,\n        0, 14,  0,  0, 13,  0,  1,  0,  1, 14,  0,  0,  0, 15,  0],\n      dtype=int64)"
     },
     "metadata": {},
     "execution_count": 472
    }
   ],
   "source": [
    "mean_shift[:100]"
   ]
  },
  {
   "cell_type": "code",
   "execution_count": 473,
   "metadata": {},
   "outputs": [],
   "source": [
    "users_=ratings[\"user id\"].tolist()\n",
    "group = []\n",
    "for user in users_:\n",
    "    group.append(user_rec.loc[user].group)\n",
    "ratings.group = group\n",
    "tmps = pd.get_dummies(ratings.group)\n",
    "for  tmp in tmps.columns:\n",
    "    ratings[tmp] = tmps[tmp]\n",
    "popular = ratings.groupby(\"item id\").sum()"
   ]
  },
  {
   "cell_type": "code",
   "execution_count": null,
   "metadata": {},
   "outputs": [],
   "source": []
  }
 ],
 "metadata": {
  "language_info": {
   "codemirror_mode": {
    "name": "ipython",
    "version": 3
   },
   "file_extension": ".py",
   "mimetype": "text/x-python",
   "name": "python",
   "nbconvert_exporter": "python",
   "pygments_lexer": "ipython3",
   "version": "3.6.5-final"
  },
  "orig_nbformat": 2,
  "kernelspec": {
   "name": "Python 3.6.5 64-bit",
   "display_name": "Python 3.6.5 64-bit",
   "metadata": {
    "interpreter": {
     "hash": "affb5a6868e2895414b1df2dd0915434775d4abb97ed0feae0e49a4d2c438ff0"
    }
   }
  }
 },
 "nbformat": 4,
 "nbformat_minor": 2
}